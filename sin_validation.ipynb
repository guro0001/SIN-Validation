{
 "cells": [
  {
   "cell_type": "code",
   "execution_count": 2,
   "metadata": {},
   "outputs": [],
   "source": [
    "def sin_validation():\n",
    "    client_sin = ''\n",
    "    sin_sum_check = []\n",
    "    \n",
    "    # SIN is a 9-digit number\n",
    "    # Validation:\n",
    "    # step 1 - Multiply every second digit by 2\n",
    "    # step 2 - Add all of the digits together (note that 16 is 1+6)\n",
    "    # step 3 - if the sin is valid, the sum will be evenly divisible by 10\n",
    "    \n",
    "    while client_sin.isdigit() == False or len(client_sin) != 9:\n",
    "        client_sin = input(\"please enter your SIN: \")\n",
    "        \n",
    "        if client_sin.isdigit() == False:\n",
    "            print(\"Please use digits only!\")\n",
    "        \n",
    "        if len(client_sin) != 9:\n",
    "            print(\"Please make sure your SIN is a NINE-DIGIT number!\")\n",
    "        \n",
    "        if client_sin.isdigit() == True and len(client_sin) == 9:\n",
    "            print(f\"Your number {client_sin} is being processed.\")\n",
    "            pass\n",
    "        \n",
    "    split_client_SIN = [int(i) for i in client_sin] # converting input into list of integers\n",
    "    even_SIN_digits = [] # empty list of even digits that will be multiplied by 2\n",
    "    odd_SIN_digits = [] # empty list of odd digits\n",
    "\n",
    "    # here I create two lists -- even digits that will be mulpiplied by 2 and odd digits.\n",
    "    for index,element in enumerate(split_client_SIN):\n",
    "        if index%2==0:\n",
    "            odd_SIN_digits.append(element)\n",
    "        else:\n",
    "            even_SIN_digits.append(element)\n",
    "\n",
    "    multi_even_SIN_digits = [i*2 for i in even_SIN_digits] # here I create a list of even digits multiplied  by 2.\n",
    "\n",
    "    multi_even_SIN_digits = [str(i) for i in multi_even_SIN_digits] # this is how I convert intergers inside this list into list of strings\n",
    "    multi_even_SIN_digits = \"\".join(multi_even_SIN_digits) # this is how I join all string into one string\n",
    "    multi_even_SIN_digits = [int(i) for i in multi_even_SIN_digits] # this is how I convert one string into a list of integers\n",
    "\n",
    "    # So, now I have two lists of integers. All integers must be summed up now. If the sum can be divided by 10 evenly, sin is valid.\n",
    "\n",
    "    sin_sum_check = (sum(odd_SIN_digits)+sum(multi_even_SIN_digits))%10\n",
    "\n",
    "    if sin_sum_check == 0:\n",
    "        print('This is a valid SIN!')\n",
    "    else:\n",
    "        print('This SIN is not valid!')\n",
    "\n",
    "    #print(odd_SIN_digits) \n",
    "    #print(multi_even_SIN_digits)\n",
    "    #print(sin_sum_check)\n"
   ]
  },
  {
   "cell_type": "code",
   "execution_count": 3,
   "metadata": {},
   "outputs": [
    {
     "name": "stdout",
     "output_type": "stream",
     "text": [
      "please enter your SIN: 12345678\n",
      "Please make sure your SIN is a NINE-DIGIT number!\n",
      "please enter your SIN: 123a45678\n",
      "Please use digits only!\n",
      "please enter your SIN: 748019726\n",
      "Your number 748019726 is being processed.\n",
      "This is a valid SIN!\n"
     ]
    }
   ],
   "source": [
    "sin_validation()\n"
   ]
  },
  {
   "cell_type": "code",
   "execution_count": null,
   "metadata": {},
   "outputs": [],
   "source": []
  }
 ],
 "metadata": {
  "kernelspec": {
   "display_name": "Python 3",
   "language": "python",
   "name": "python3"
  },
  "language_info": {
   "codemirror_mode": {
    "name": "ipython",
    "version": 3
   },
   "file_extension": ".py",
   "mimetype": "text/x-python",
   "name": "python",
   "nbconvert_exporter": "python",
   "pygments_lexer": "ipython3",
   "version": "3.7.4"
  }
 },
 "nbformat": 4,
 "nbformat_minor": 2
}
